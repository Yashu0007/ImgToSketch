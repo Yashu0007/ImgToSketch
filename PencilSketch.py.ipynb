{
 "cells": [
  {
   "cell_type": "code",
   "execution_count": null,
   "metadata": {},
   "outputs": [],
   "source": [
    "import cv2\n",
    "import sys\n",
    "\n",
    "src_path = \"C:/Users/User/Desktop/\"\n",
    "image=cv2.imread(src_path + \"yash1.jpg\")\n",
    "grayImage=cv2.cvtColor(image,cv2.COLOR_BGR2GRAY)\n",
    "grayImageInv=255-grayImage\n",
    "grayImageInv=cv2.GaussianBlur(grayImageInv,(21,21),0)\n",
    "output=cv2.divide(grayImage,255-grayImageInv,scale=256.0)\n",
    "cv2.namedWindow(\"image\",cv2.WINDOW_AUTOSIZE)\n",
    "cv2.namedWindow(\"pencilsketch\",cv2.WINDOW_AUTOSIZE)\n",
    "cv2.imshow(\"inamge\",image)\n",
    "cv2.imshow(\"pencilsketch\",output)\n",
    "cv2.waitKey(0)\n",
    "cv2.destroyAllWindows()"
   ]
  },
  {
   "cell_type": "code",
   "execution_count": null,
   "metadata": {},
   "outputs": [],
   "source": []
  }
 ],
 "metadata": {
  "kernelspec": {
   "display_name": "Python 3",
   "language": "python",
   "name": "python3"
  },
  "language_info": {
   "codemirror_mode": {
    "name": "ipython",
    "version": 3
   },
   "file_extension": ".py",
   "mimetype": "text/x-python",
   "name": "python",
   "nbconvert_exporter": "python",
   "pygments_lexer": "ipython3",
   "version": "3.7.3"
  }
 },
 "nbformat": 4,
 "nbformat_minor": 2
}
